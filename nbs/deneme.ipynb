{
 "cells": [
  {
   "cell_type": "code",
   "execution_count": 5,
   "metadata": {},
   "outputs": [],
   "source": [
    "import os\n",
    "import ray\n",
    "import requests\n",
    "import numpy as np\n",
    "from PIL import Image\n",
    "from transformers import Blip2Processor, Blip2ForConditionalGeneration\n",
    "import torch\n",
    "\n",
    "import sys\n",
    "sys.path.append(\"../scripts/04_extract_frame_features/\")\n",
    "from frame_feature_extractor import FrameFeatureExtractor\n",
    "\n",
    "from typing import List\n",
    "\n",
    "class BLIP2VQAFrameFeatureExtractor(FrameFeatureExtractor):\n",
    "    def __init__(self):\n",
    "        super().__init__()\n",
    "        self.processor = Blip2Processor.from_pretrained(\n",
    "            os.path.join(os.environ[\"SCRATCH\"], \"mq_libs/blip2\")\n",
    "        )\n",
    "        self.model = Blip2ForConditionalGeneration.from_pretrained(\n",
    "            os.path.join(os.environ[\"SCRATCH\"], \"mq_libs/blip2\"),\n",
    "            torch_dtype=torch.float16,\n",
    "        )\n",
    "        self.model.to(\"cuda\")\n",
    "        self.questions = [\n",
    "            \"What does the image describe?\",\n",
    "            \"What is the person in this picture doing?\",\n",
    "            \"What is happening in this picture?\",\n",
    "        ]\n",
    "\n",
    "    @property\n",
    "    def column_names(self):\n",
    "        return [\"frame_index\", \"question\", \"answer\"]\n",
    "\n",
    "    def predictor_function(\n",
    "        self, frame_indices_batch: List[int], frames_batch: List[np.array]\n",
    "    ):\n",
    "        # with torch.no_grad():\n",
    "        #     all_generated_texts = []\n",
    "            # for question in self.questions:\n",
    "        url = \"http://images.cocodataset.org/val2017/000000039769.jpg\"\n",
    "        image = Image.open(requests.get(url, stream=True).raw)\n",
    "\n",
    "        prompt = \"Question: how many cats are there? Answer:\"\n",
    "        inputs = self.processor(images=image, text=prompt, return_tensors=\"pt\").to(\"cuda\", torch.float16)\n",
    "\n",
    "        generated_ids = self.model.generate(**inputs)\n",
    "        generated_text = self.processor.batch_decode(generated_ids, skip_special_tokens=True)[0].strip()\n",
    "        print(generated_text)\n"
   ]
  },
  {
   "cell_type": "code",
   "execution_count": 6,
   "metadata": {},
   "outputs": [],
   "source": [
    "import cv2\n",
    "\n",
    "cap = cv2.VideoCapture(os.path.join(os.environ[\"SCRATCH\"], \"ego4d_data/v2/clips/00182baf-e3fe-4bee-9416-825555bc4506.mp4\"))\n"
   ]
  },
  {
   "cell_type": "code",
   "execution_count": 7,
   "metadata": {},
   "outputs": [
    {
     "data": {
      "application/vnd.jupyter.widget-view+json": {
       "model_id": "0dbd1a17e1ff4151a49490fbd637cacb",
       "version_major": 2,
       "version_minor": 0
      },
      "text/plain": [
       "Loading checkpoint shards:   0%|          | 0/2 [00:00<?, ?it/s]"
      ]
     },
     "metadata": {},
     "output_type": "display_data"
    },
    {
     "name": "stderr",
     "output_type": "stream",
     "text": [
      "/data/aarslan/mambaforge/envs/mq_data/lib/python3.9/site-packages/transformers/generation/utils.py:1254: UserWarning: Using the model-agnostic default `max_length` (=20) to control thegeneration length. We recommend setting `max_new_tokens` to control the maximum length of the generation.\n",
      "  warnings.warn(\n"
     ]
    }
   ],
   "source": [
    "processor = Blip2Processor.from_pretrained(\n",
    "    os.path.join(os.environ[\"SCRATCH\"], \"mq_libs/blip2\")\n",
    ")\n",
    "model = Blip2ForConditionalGeneration.from_pretrained(\n",
    "    os.path.join(os.environ[\"SCRATCH\"], \"mq_libs/blip2\"),\n",
    "    torch_dtype=torch.float16,\n",
    ")\n",
    "model.to(\"cuda\")\n"
   ]
  },
  {
   "cell_type": "code",
   "execution_count": 12,
   "metadata": {},
   "outputs": [],
   "source": [
    "url = \"http://images.cocodataset.org/val2017/000000039769.jpg\"\n",
    "image = Image.open(requests.get(url, stream=True).raw)\n",
    "\n",
    "prompt = \"Question: How many cats are there? Answer:\"\n",
    "inputs = processor(images=image, text=prompt, return_tensors=\"pt\").to(\"cuda\", torch.float16)\n",
    "\n",
    "generated_ids = model.generate(**inputs)\n",
    "generated_text = processor.batch_decode(generated_ids, skip_special_tokens=True)[0].strip()\n"
   ]
  },
  {
   "cell_type": "code",
   "execution_count": 13,
   "metadata": {},
   "outputs": [
    {
     "data": {
      "text/plain": [
       "'Two'"
      ]
     },
     "execution_count": 13,
     "metadata": {},
     "output_type": "execute_result"
    }
   ],
   "source": [
    "generated_text\n"
   ]
  },
  {
   "cell_type": "code",
   "execution_count": null,
   "metadata": {},
   "outputs": [],
   "source": []
  }
 ],
 "metadata": {
  "kernelspec": {
   "display_name": "Python 3.9.9 ('mq_data')",
   "language": "python",
   "name": "python3"
  },
  "language_info": {
   "codemirror_mode": {
    "name": "ipython",
    "version": 3
   },
   "file_extension": ".py",
   "mimetype": "text/x-python",
   "name": "python",
   "nbconvert_exporter": "python",
   "pygments_lexer": "ipython3",
   "version": "3.9.9"
  },
  "orig_nbformat": 4,
  "vscode": {
   "interpreter": {
    "hash": "48312df1ee2fb152392598727aad3ea3db4053aa1276787e047649386d8fd329"
   }
  }
 },
 "nbformat": 4,
 "nbformat_minor": 2
}
