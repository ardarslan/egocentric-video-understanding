{
 "cells": [
  {
   "cell_type": "code",
   "execution_count": null,
   "id": "d7382455-c3cc-4d0b-b5bf-2b2b89e6e423",
   "metadata": {},
   "outputs": [
    {
     "name": "stderr",
     "output_type": "stream",
     "text": [
      "/srv/beegfs02/scratch/aarslan_data/data/mambaforge/envs/mq_analysis/lib/python3.9/site-packages/tqdm/auto.py:21: TqdmWarning: IProgress not found. Please update jupyter and ipywidgets. See https://ipywidgets.readthedocs.io/en/stable/user_install.html\n",
      "  from .autonotebook import tqdm as notebook_tqdm\n",
      "2023-11-26 10:14:40.726256: E external/local_xla/xla/stream_executor/cuda/cuda_dnn.cc:9261] Unable to register cuDNN factory: Attempting to register factory for plugin cuDNN when one has already been registered\n",
      "2023-11-26 10:14:40.727758: E external/local_xla/xla/stream_executor/cuda/cuda_fft.cc:607] Unable to register cuFFT factory: Attempting to register factory for plugin cuFFT when one has already been registered\n",
      "2023-11-26 10:14:40.936224: E external/local_xla/xla/stream_executor/cuda/cuda_blas.cc:1515] Unable to register cuBLAS factory: Attempting to register factory for plugin cuBLAS when one has already been registered\n",
      "2023-11-26 10:14:41.673494: I tensorflow/core/platform/cpu_feature_guard.cc:182] This TensorFlow binary is optimized to use available CPU instructions in performance-critical operations.\n",
      "To enable the following instructions: AVX2 FMA, in other operations, rebuild TensorFlow with the appropriate compiler flags.\n",
      "2023-11-26 10:14:50.555601: W tensorflow/compiler/tf2tensorrt/utils/py_utils.cc:38] TF-TRT Warning: Could not find TensorRT\n",
      "Loading checkpoint shards:  50%|█████████         | 1/2 [01:24<01:24, 84.43s/it]"
     ]
    }
   ],
   "source": [
    "import os\n",
    "import cv2\n",
    "import torch\n",
    "from PIL import Image\n",
    "from transformers import Blip2Processor, Blip2ForConditionalGeneration\n",
    "\n",
    "device = \"cuda:0\"\n",
    "\n",
    "processor = Blip2Processor.from_pretrained(\n",
    "    os.path.join(os.environ[\"SCRATCH\"], \"mq_libs/blip2\")\n",
    ")\n",
    "model = Blip2ForConditionalGeneration.from_pretrained(\n",
    "    os.path.join(os.environ[\"SCRATCH\"], \"mq_libs/blip2\"),\n",
    "    torch_dtype=torch.float16,\n",
    ")\n",
    "model.to(device)\n"
   ]
  },
  {
   "cell_type": "code",
   "execution_count": null,
   "id": "7b301e5e-379b-4ec9-9840-c6218c4375d2",
   "metadata": {},
   "outputs": [],
   "source": [
    "clip_id = \"0076e425-bdb6-48b3-b4d3-695089ac9800\"\n",
    "question = \"What is the person in this picture doing?\"\n",
    "frame_id = 10458\n",
    "\n",
    "cap = cv2.VideoCapture(os.path.join(os.environ[\"SCRATCH\"], \"ego4d_data/v2/clips\", clip_id + \".mp4\"))\n",
    "cap.set(cv2.CAP_PROP_POS_FRAMES, frame_id - 1)\n",
    "_, frame = cap.read()\n",
    "\n",
    "frame = Image.fromarray(frame[:, :, ::-1])\n",
    "\n",
    "with torch.no_grad():\n",
    "    all_generated_texts = []\n",
    "    preprocessed_frames_batch_dict = processor(\n",
    "        images=[\n",
    "            frame\n",
    "        ],\n",
    "        text=[\"Question: \" + question + \" Answer:\"],\n",
    "        return_tensors=\"pt\",\n",
    "    ).to(device, torch.float16)\n",
    "    generated_ids = model.generate(**preprocessed_frames_batch_dict)\n",
    "    generated_text = processor.batch_decode(\n",
    "        generated_ids, skip_special_tokens=True\n",
    "    )[0].strip()\n",
    "\n",
    "display(frame)\n",
    "print(generated_text)\n",
    "\n"
   ]
  },
  {
   "cell_type": "code",
   "execution_count": null,
   "id": "6038ce27-a8f3-48c9-baaa-6a124fd73cb0",
   "metadata": {},
   "outputs": [],
   "source": [
    "\n",
    "\n"
   ]
  }
 ],
 "metadata": {
  "kernelspec": {
   "display_name": "mq_analysis",
   "language": "python",
   "name": "mq_analysis"
  },
  "language_info": {
   "codemirror_mode": {
    "name": "ipython",
    "version": 3
   },
   "file_extension": ".py",
   "mimetype": "text/x-python",
   "name": "python",
   "nbconvert_exporter": "python",
   "pygments_lexer": "ipython3",
   "version": "3.9.9"
  }
 },
 "nbformat": 4,
 "nbformat_minor": 5
}
