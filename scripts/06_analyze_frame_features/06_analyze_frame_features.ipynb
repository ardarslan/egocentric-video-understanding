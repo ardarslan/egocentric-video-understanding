{
 "cells": [
  {
   "cell_type": "code",
   "execution_count": 7,
   "id": "66694fce-5ecc-43a1-b506-6d88ecb5fdf4",
   "metadata": {},
   "outputs": [],
   "source": [
    "import os\n",
    "import json\n",
    "\n",
    "ground_truth_json_file_path = os.path.join(\n",
    "    os.environ[\"CODE\"],\n",
    "    \"scripts/07_reproduce_baseline_results/data/ego4d/ego4d_clip_annotations_v3.json\",\n",
    ")\n",
    "with open(\n",
    "    ground_truth_json_file_path, \"r\"\n",
    ") as ground_truth_json_file_reader:\n",
    "    ground_truths_dict = json.load(ground_truth_json_file_reader)\n"
   ]
  },
  {
   "cell_type": "code",
   "execution_count": 15,
   "id": "e72e4315-86fe-46d3-b3c8-97bb7ef70140",
   "metadata": {},
   "outputs": [],
   "source": [
    "import cv2\n",
    "\n",
    "cap = cv2.VideoCapture(\"/data/aarslan/ego4d_data/v2/clips/00462c6f-c50f-4005-b3a7-6253fa6e9cc3.mp4\")\n"
   ]
  },
  {
   "cell_type": "code",
   "execution_count": 18,
   "id": "872bcaba-af96-4f4a-af7f-292dc48f3d9e",
   "metadata": {},
   "outputs": [],
   "source": [
    "number_of_frames = 0\n",
    "\n",
    "cap = cv2.VideoCapture(\"/data/aarslan/ego4d_data/v2/clips/00462c6f-c50f-4005-b3a7-6253fa6e9cc3.mp4\")\n",
    "success = True\n",
    "while success:\n",
    "    success, frame = cap.read()\n",
    "    number_of_frames += 1\n",
    "    "
   ]
  },
  {
   "cell_type": "code",
   "execution_count": 19,
   "id": "19891cda-8be0-4934-b07f-1edf25d8c1e1",
   "metadata": {},
   "outputs": [
    {
     "data": {
      "text/plain": [
       "14401"
      ]
     },
     "execution_count": 19,
     "metadata": {},
     "output_type": "execute_result"
    }
   ],
   "source": [
    "number_of_frames"
   ]
  },
  {
   "cell_type": "code",
   "execution_count": null,
   "id": "4914ca56-79da-484a-add5-acd2d7959f18",
   "metadata": {},
   "outputs": [],
   "source": []
  },
  {
   "cell_type": "code",
   "execution_count": 17,
   "id": "7479930a-12b3-4063-a4c0-9fd8f8d08f9e",
   "metadata": {},
   "outputs": [
    {
     "data": {
      "text/plain": [
       "30.0"
      ]
     },
     "execution_count": 17,
     "metadata": {},
     "output_type": "execute_result"
    }
   ],
   "source": [
    "cap.get(cv2.CAP_PROP_FPS)\n"
   ]
  },
  {
   "cell_type": "code",
   "execution_count": 14,
   "id": "68d7463c-3062-4c25-a219-795b45cee54f",
   "metadata": {},
   "outputs": [
    {
     "data": {
      "text/plain": [
       "{'video_id': '6bea0b73-ab46-4615-a86e-cb65784dba0b',\n",
       " 'clip_id': '00462c6f-c50f-4005-b3a7-6253fa6e9cc3',\n",
       " 'duration': 480.0,\n",
       " 'parent_start_sec': 0.0,\n",
       " 'parent_end_sec': 480.0,\n",
       " 'v_duration': 649.3,\n",
       " 'fps': 1.8743261974434007,\n",
       " 'annotations': [{'segment': [385.27911, 391.608],\n",
       "   'label': 'walk_down_stairs_/_walk_up_stairs',\n",
       "   'label_id': 30},\n",
       "  {'segment': [376.39362, 381.521],\n",
       "   'label': 'use_hammer_/_nail-gun_to_fix_nail',\n",
       "   'label_id': 34},\n",
       "  {'segment': [373.9374, 381.085],\n",
       "   'label': 'use_hammer_/_nail-gun_to_fix_nail',\n",
       "   'label_id': 34},\n",
       "  {'segment': [384.81953, 392.004],\n",
       "   'label': 'walk_down_stairs_/_walk_up_stairs',\n",
       "   'label_id': 30}],\n",
       " 'subset': 'train'}"
      ]
     },
     "execution_count": 14,
     "metadata": {},
     "output_type": "execute_result"
    }
   ],
   "source": [
    "ground_truths_dict[\"00462c6f-c50f-4005-b3a7-6253fa6e9cc3\"]"
   ]
  },
  {
   "cell_type": "code",
   "execution_count": 23,
   "id": "dbacb139-6f26-40d5-860c-7d262b34b7fc",
   "metadata": {},
   "outputs": [
    {
     "data": {
      "text/html": [
       "\n",
       "        <iframe\n",
       "            width=\"100%\"\n",
       "            height=\"650\"\n",
       "            src=\"http://127.0.0.1:8050/\"\n",
       "            frameborder=\"0\"\n",
       "            allowfullscreen\n",
       "            \n",
       "        ></iframe>\n",
       "        "
      ],
      "text/plain": [
       "<IPython.lib.display.IFrame at 0x7f5c73d0bf70>"
      ]
     },
     "metadata": {},
     "output_type": "display_data"
    }
   ],
   "source": [
    "import pandas as pd\n",
    "import plotly.graph_objects as go\n",
    "from dash import Dash, dcc, html, Input, Output, no_update, callback\n",
    "\n",
    "# Small molecule drugbank dataset\n",
    "# Source: https://raw.githubusercontent.com/plotly/dash-sample-apps/main/apps/dash-drug-discovery/data/small_molecule_drugbank.csv'\n",
    "data_path = 'drug-discovery_data_small_molecule_drugbank.csv'\n",
    "\n",
    "df = pd.read_csv(data_path, header=0, index_col=0)\n",
    "\n",
    "fig = go.Figure(data=[\n",
    "    go.Scatter(\n",
    "        x=df[\"LOGP\"],\n",
    "        y=df[\"PKA\"],\n",
    "        mode=\"markers\",\n",
    "        marker=dict(\n",
    "            colorscale='viridis',\n",
    "            color=df[\"MW\"],\n",
    "            size=df[\"MW\"],\n",
    "            colorbar={\"title\": \"Molecular<br>Weight\"},\n",
    "            line={\"color\": \"#444\"},\n",
    "            reversescale=True,\n",
    "            sizeref=45,\n",
    "            sizemode=\"diameter\",\n",
    "            opacity=0.8,\n",
    "        )\n",
    "    )\n",
    "])\n",
    "\n",
    "# turn off native plotly.js hover effects - make sure to use\n",
    "# hoverinfo=\"none\" rather than \"skip\" which also halts events.\n",
    "fig.update_traces(hoverinfo=\"none\", hovertemplate=None)\n",
    "\n",
    "fig.update_layout(\n",
    "    xaxis=dict(title='Log P'),\n",
    "    yaxis=dict(title='pkA'),\n",
    "    plot_bgcolor='rgba(255,255,255,0.1)'\n",
    ")\n",
    "\n",
    "app = Dash(__name__)\n",
    "\n",
    "app.layout = html.Div([\n",
    "    dcc.Graph(id=\"graph-basic-2\", figure=fig, clear_on_unhover=True),\n",
    "    dcc.Tooltip(id=\"graph-tooltip\"),\n",
    "])\n",
    "\n",
    "\n",
    "@callback(\n",
    "    Output(\"graph-tooltip\", \"show\"),\n",
    "    Output(\"graph-tooltip\", \"bbox\"),\n",
    "    Output(\"graph-tooltip\", \"children\"),\n",
    "    Input(\"graph-basic-2\", \"hoverData\"),\n",
    ")\n",
    "def display_hover(hoverData):\n",
    "    if hoverData is None:\n",
    "        return False, no_update, no_update\n",
    "\n",
    "    # demo only shows the first point, but other points may also be available\n",
    "    pt = hoverData[\"points\"][0]\n",
    "    bbox = pt[\"bbox\"]\n",
    "    num = pt[\"pointNumber\"]\n",
    "\n",
    "    df_row = df.iloc[num]\n",
    "    img_src = df_row['IMG_URL']\n",
    "    name = df_row['NAME']\n",
    "    form = df_row['FORM']\n",
    "    desc = df_row['DESC']\n",
    "    if len(desc) > 300:\n",
    "        desc = desc[:100] + '...'\n",
    "\n",
    "    children = [\n",
    "        html.Div([\n",
    "            html.Img(src=img_src, style={\"width\": \"100%\"}),\n",
    "            html.H2(f\"{name}\", style={\"color\": \"darkblue\", \"overflow-wrap\": \"break-word\"}),\n",
    "            html.P(f\"{form}\"),\n",
    "            html.P(f\"{desc}\"),\n",
    "        ], style={'width': '200px', 'white-space': 'normal'})\n",
    "    ]\n",
    "\n",
    "    return True, bbox, children\n",
    "\n",
    "\n",
    "if __name__ == \"__main__\":\n",
    "    app.run(debug=True)\n"
   ]
  },
  {
   "cell_type": "code",
   "execution_count": null,
   "id": "ec891ce0-4307-4180-b744-f1367f3bb7c6",
   "metadata": {},
   "outputs": [],
   "source": []
  }
 ],
 "metadata": {
  "kernelspec": {
   "display_name": "mq",
   "language": "python",
   "name": "mq"
  },
  "language_info": {
   "codemirror_mode": {
    "name": "ipython",
    "version": 3
   },
   "file_extension": ".py",
   "mimetype": "text/x-python",
   "name": "python",
   "nbconvert_exporter": "python",
   "pygments_lexer": "ipython3",
   "version": "3.9.9"
  }
 },
 "nbformat": 4,
 "nbformat_minor": 5
}
