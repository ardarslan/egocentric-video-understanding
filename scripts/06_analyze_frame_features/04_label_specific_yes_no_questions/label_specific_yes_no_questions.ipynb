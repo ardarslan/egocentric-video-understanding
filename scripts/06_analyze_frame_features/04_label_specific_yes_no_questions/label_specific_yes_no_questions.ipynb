{
 "cells": [
  {
   "cell_type": "code",
   "execution_count": null,
   "metadata": {},
   "outputs": [
    {
     "ename": "",
     "evalue": "",
     "output_type": "error",
     "traceback": [
      "\u001b[1;31mFailed to start the Kernel. \n",
      "Unable to start Kernel 'mq_data (Python 3.9.9)' due to connection timeout. \n",
      "View Jupyter <a href='command:jupyter.viewOutput'>log</a> for further details."
     ]
    }
   ],
   "source": [
    "import os\n",
    "import cv2\n",
    "import torch\n",
    "import pickle\n",
    "from PIL import Image\n",
    "from tqdm import tqdm\n",
    "from transformers import Blip2Processor, Blip2ForConditionalGeneration\n",
    "\n",
    "device = \"cuda:3\"\n",
    "\n",
    "processor = Blip2Processor.from_pretrained(\n",
    "    os.path.join(os.environ[\"SCRATCH\"], \"mq_libs/blip2\")\n",
    ")\n",
    "model = Blip2ForConditionalGeneration.from_pretrained(\n",
    "    os.path.join(os.environ[\"SCRATCH\"], \"mq_libs/blip2\"),\n",
    "    torch_dtype=torch.float16,\n",
    ")\n",
    "model.to(device)\n"
   ]
  },
  {
   "cell_type": "code",
   "execution_count": 2,
   "metadata": {},
   "outputs": [],
   "source": [
    "import pickle\n",
    "import json\n"
   ]
  },
  {
   "cell_type": "code",
   "execution_count": 3,
   "metadata": {},
   "outputs": [],
   "source": [
    "with open(os.path.join(os.environ[\"SCRATCH\"], \"ego4d_data/v2/analysis_data/ground_truth_labels/ground_truth_labels.pickle\"), \"rb\") as reader:\n",
    "    ground_truth_label_indices = pickle.load(reader)\n"
   ]
  },
  {
   "cell_type": "code",
   "execution_count": 4,
   "metadata": {},
   "outputs": [],
   "source": [
    "unique_ground_truth_labels = set()\n"
   ]
  },
  {
   "cell_type": "code",
   "execution_count": 5,
   "metadata": {},
   "outputs": [],
   "source": [
    "with open(os.path.join(os.environ[\"CODE\"], \"scripts/06_analyze_frame_features/02_map_label_dependency_parsing_features_and_blip2_answer_dependency_parsing_features\", \"label_verb_noun_tool_mapping.json\"), \"r\") as reader:\n",
    "    label_verb_noun_tools_mapping = json.load(reader)\n",
    "\n",
    "label_verb_noun_tools_mapping_keys = sorted(list(label_verb_noun_tools_mapping.keys())) + [\"background\"]\n"
   ]
  },
  {
   "cell_type": "code",
   "execution_count": 6,
   "metadata": {},
   "outputs": [
    {
     "data": {
      "text/plain": [
       "{'background',\n",
       " 'browse_through_accessories_on_rack_/_shelf',\n",
       " 'browse_through_clothing_items_on_rack_/_shelf_/_hanger',\n",
       " 'converse_/_interact_with_someone',\n",
       " 'hang_clothes_in_closet_/_on_hangers',\n",
       " 'read_a_book_/_magazine_/_shopping_list_etc.'}"
      ]
     },
     "execution_count": 6,
     "metadata": {},
     "output_type": "execute_result"
    }
   ],
   "source": [
    "clip_id = \"0076e425-bdb6-48b3-b4d3-695089ac9800\"\n",
    "\n",
    "for frame_id in ground_truth_label_indices[clip_id].keys():\n",
    "    for current_ground_truth_label_index in ground_truth_label_indices[clip_id][frame_id]:\n",
    "        current_ground_truth_label = label_verb_noun_tools_mapping_keys[current_ground_truth_label_index]\n",
    "        unique_ground_truth_labels.add(current_ground_truth_label)\n",
    "\n",
    "unique_ground_truth_labels\n"
   ]
  },
  {
   "cell_type": "code",
   "execution_count": 16,
   "metadata": {},
   "outputs": [],
   "source": [
    "label_question_mapping = {\n",
    "    \"browse_through_accessories_on_rack_/_shelf\": \"Browsing through accessories on rack or shelf?\",\n",
    "    \"browse_through_clothing_items_on_rack_/_shelf_/_hanger\": \"Is the person in this image browsing through clothing items on rack or shelf or hanger?\",\n",
    "    \"converse_/_interact_with_someone\": \"Is the person in this image conversing or interacting with someone?\",\n",
    "    \"hang_clothes_in_closet_/_on_hangers\": \"Is the person in this image hanging clothes in closet or on hangers?\",\n",
    "    \"read_a_book_/_magazine_/_shopping_list_etc.\": \"Is the person in this image reading a book, magazine, shopping list or similar?\"\n",
    "}\n"
   ]
  },
  {
   "cell_type": "code",
   "execution_count": 17,
   "metadata": {},
   "outputs": [
    {
     "name": "stderr",
     "output_type": "stream",
     "text": [
      "  0%|          | 0/14400 [00:00<?, ?it/s]/data/aarslan/mambaforge/envs/mq_data/lib/python3.9/site-packages/transformers/generation/utils.py:1254: UserWarning: Using the model-agnostic default `max_length` (=20) to control thegeneration length. We recommend setting `max_new_tokens` to control the maximum length of the generation.\n",
      "  warnings.warn(\n",
      "  7%|▋         | 1000/14400 [26:23<5:53:38,  1.58s/it]\n"
     ]
    }
   ],
   "source": [
    "cap = cv2.VideoCapture(os.path.join(os.environ[\"SCRATCH\"], \"ego4d_data/v2/clips\", clip_id + \".mp4\"))\n",
    "\n",
    "frame_id_label_answer_mapping = {}\n",
    "\n",
    "success = True\n",
    "frame_id = 0\n",
    "\n",
    "with tqdm(total=int(cap.get(cv2.CAP_PROP_FRAME_COUNT))) as pbar:\n",
    "    while success:\n",
    "        frame_id_label_answer_mapping[frame_id] = dict()\n",
    "        success, frame = cap.read()\n",
    "        frame = Image.fromarray(frame[:, :, ::-1])\n",
    "        for label, question in label_question_mapping.items():\n",
    "            label_index = label_verb_noun_tools_mapping_keys.index(label)\n",
    "            preprocessed_frames_batch_dict = processor(\n",
    "                images=[\n",
    "                    frame\n",
    "                ],\n",
    "                text=[\"Question: \" + question + \" Answer:\"],\n",
    "                return_tensors=\"pt\",\n",
    "            ).to(device, torch.float16)\n",
    "            generated_ids = model.generate(**preprocessed_frames_batch_dict)\n",
    "            generated_text = processor.batch_decode(\n",
    "                generated_ids, skip_special_tokens=True\n",
    "            )[0].strip()\n",
    "            frame_id_label_answer_mapping[frame_id][label_index] = generated_text\n",
    "        pbar.update(1)\n",
    "        frame_id += 1\n",
    "        if frame_id == 1000:\n",
    "            break\n"
   ]
  },
  {
   "cell_type": "code",
   "execution_count": null,
   "metadata": {},
   "outputs": [],
   "source": [
    "\n"
   ]
  }
 ],
 "metadata": {
  "kernelspec": {
   "display_name": "Python 3.9.9 ('mq_data')",
   "language": "python",
   "name": "python3"
  },
  "language_info": {
   "codemirror_mode": {
    "name": "ipython",
    "version": 3
   },
   "file_extension": ".py",
   "mimetype": "text/x-python",
   "name": "python",
   "nbconvert_exporter": "python",
   "pygments_lexer": "ipython3",
   "version": "3.9.9"
  },
  "orig_nbformat": 4,
  "vscode": {
   "interpreter": {
    "hash": "48312df1ee2fb152392598727aad3ea3db4053aa1276787e047649386d8fd329"
   }
  }
 },
 "nbformat": 4,
 "nbformat_minor": 2
}
