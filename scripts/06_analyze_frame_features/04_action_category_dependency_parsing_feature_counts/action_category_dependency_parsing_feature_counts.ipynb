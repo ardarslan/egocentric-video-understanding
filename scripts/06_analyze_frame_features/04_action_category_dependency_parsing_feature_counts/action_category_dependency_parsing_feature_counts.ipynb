{
 "cells": [
  {
   "cell_type": "code",
   "execution_count": 1,
   "id": "29f0cd77-7e68-4b58-9432-68a4671588dc",
   "metadata": {},
   "outputs": [],
   "source": [
    "import os\n",
    "import pickle\n",
    "import json\n",
    "from tqdm import tqdm"
   ]
  },
  {
   "cell_type": "code",
   "execution_count": 2,
   "id": "6c8a85b2-a4ec-4020-98ce-46749bc31442",
   "metadata": {},
   "outputs": [],
   "source": [
    "from collections import defaultdict"
   ]
  },
  {
   "cell_type": "code",
   "execution_count": 3,
   "id": "2fa292ef-dc7d-422c-9e34-729c24dc8f6a",
   "metadata": {},
   "outputs": [],
   "source": [
    "os.environ[\"CODE\"] = \"/home/aarslan/mq\"\n"
   ]
  },
  {
   "cell_type": "code",
   "execution_count": 4,
   "id": "4235f6a9-d344-4987-8010-1f1492cfb23d",
   "metadata": {},
   "outputs": [],
   "source": [
    "with open(os.path.join(os.environ[\"SCRATCH\"], \"ego4d_data/v2/analysis_data/dependency_parsing_results/dependency_parsing_results.pickle\"), \"rb\") as reader:\n",
    "    dependency_parsing_results = pickle.load(reader)\n"
   ]
  },
  {
   "cell_type": "code",
   "execution_count": 5,
   "id": "6fa9330e-11c8-48a6-b97f-1dc4f1409737",
   "metadata": {},
   "outputs": [],
   "source": [
    "with open(os.path.join(os.environ[\"SCRATCH\"], \"ego4d_data/v2/analysis_data/ground_truth_labels/ground_truth_labels.pickle\"), \"rb\") as reader:\n",
    "    ground_truth_labels = pickle.load(reader)\n"
   ]
  },
  {
   "cell_type": "code",
   "execution_count": 6,
   "id": "502f7a8b-3581-426e-8d1c-44541be6e3e0",
   "metadata": {},
   "outputs": [],
   "source": [
    "with open(os.path.join(os.environ[\"CODE\"], \"scripts/06_analyze_frame_features/03_map_label_dependency_parsing_features_and_blip2_answer_dependency_parsing_features\", \"label_verb_noun_tool_mapping.json\"), \"r\") as reader:\n",
    "    label_verb_noun_tools_mapping = json.load(reader)\n"
   ]
  },
  {
   "cell_type": "code",
   "execution_count": 7,
   "id": "2ee6a5b1-8536-47ee-9f98-5b68fd5d7b35",
   "metadata": {},
   "outputs": [],
   "source": [
    "label_verb_noun_tools_mapping_keys = sorted(list(label_verb_noun_tools_mapping.keys())) + [\"background\"]\n",
    "\n",
    "label_index_label_mapping = dict()\n",
    "for i in range(len(label_verb_noun_tools_mapping_keys)):\n",
    "    label_index_label_mapping[i] = label_verb_noun_tools_mapping_keys[i]\n"
   ]
  },
  {
   "cell_type": "code",
   "execution_count": 8,
   "id": "2f00ecff-d212-4694-b7ab-bcb04ea0da7b",
   "metadata": {},
   "outputs": [
    {
     "name": "stderr",
     "output_type": "stream",
     "text": [
      "100%|██████████████████████████████████████████████████████████████████████████████████████████████████████| 2495/2495 [3:11:12<00:00,  4.60s/it]\n"
     ]
    }
   ],
   "source": [
    "blip2_question_index_verb_noun_tool_match_count_mapping = defaultdict(lambda: 0)\n",
    "\n",
    "blip2_question_index_verb_noun_match_count_mapping = defaultdict(lambda: 0)\n",
    "\n",
    "blip2_question_index_verb_tool_match_count_mapping = defaultdict(lambda: 0)\n",
    "\n",
    "blip2_question_index_verb_match_count_mapping = defaultdict(lambda: 0)\n",
    "\n",
    "blip2_question_index_noun_match_count_mapping = defaultdict(lambda: 0)\n",
    "\n",
    "blip2_question_index_tool_match_count_mapping = defaultdict(lambda: 0)\n",
    "\n",
    "blip2_question_index_background_match_count_mapping = defaultdict(lambda: 0)\n",
    "\n",
    "blip2_question_index_count_mapping = defaultdict(lambda: 0)\n",
    "\n",
    "for clip_id in tqdm(ground_truth_labels.keys()):\n",
    "    for frame_id in ground_truth_labels[clip_id].keys():\n",
    "        current_dependency_parsing_results = dependency_parsing_results[clip_id][int((frame_id // 6) * 6)]\n",
    "        for blip2_question_index, blip2_answer_verb_noun_tool_pairs in current_dependency_parsing_results.items():\n",
    "            blip2_answer = blip2_answer_verb_noun_tool_pairs[0]\n",
    "            blip2_verb_noun_tool_pairs = blip2_answer_verb_noun_tool_pairs[1]\n",
    "            for blip2_verb_noun_tool_pair in blip2_verb_noun_tool_pairs:\n",
    "                blip2_verb = blip2_verb_noun_tool_pair[0]\n",
    "                blip2_noun = blip2_verb_noun_tool_pair[1]\n",
    "                blip2_tool = blip2_verb_noun_tool_pair[2]\n",
    "\n",
    "                current_ground_truth_label_indices = ground_truth_labels[clip_id][frame_id]\n",
    "                for current_ground_truth_label_index in current_ground_truth_label_indices:\n",
    "                    if current_ground_truth_label_index == len(label_verb_noun_tools_mapping_keys) - 1:\n",
    "                        at_least_one_label_matches = False\n",
    "                        for label, label_verb_noun_tool_pairs in label_verb_noun_tools_mapping.items():\n",
    "                            if at_least_one_label_matches:\n",
    "                                break\n",
    "                            for label_verb_noun_tool_pair in label_verb_noun_tool_pairs:\n",
    "                                label_verb = label_verb_noun_tool_pair[0]\n",
    "                                label_noun = label_verb_noun_tool_pair[1]\n",
    "                                label_tool = label_verb_noun_tool_pair[2]\n",
    "                                if blip2_verb == label_verb or blip2_noun == label_noun:\n",
    "                                    at_least_one_label_matches = True\n",
    "                                    break\n",
    "                        if not at_least_one_label_matches:\n",
    "                            blip2_question_index_background_match_count_mapping[blip2_question_index] += 1\n",
    "                        blip2_question_index_count_mapping[blip2_question_index] += 1\n",
    "                    else:\n",
    "                        current_ground_truth_label = label_verb_noun_tools_mapping_keys[current_ground_truth_label_index]\n",
    "                        current_ground_truth_label_verb_noun_tool_pairs = label_verb_noun_tools_mapping[current_ground_truth_label]\n",
    "\n",
    "                        for current_ground_truth_label_verb_noun_tool_pair in current_ground_truth_label_verb_noun_tool_pairs:\n",
    "                            current_ground_truth_label_verb = current_ground_truth_label_verb_noun_tool_pair[0]\n",
    "                            current_ground_truth_label_noun = current_ground_truth_label_verb_noun_tool_pair[1]\n",
    "                            current_ground_truth_label_tool = current_ground_truth_label_verb_noun_tool_pair[2]\n",
    "\n",
    "                            blip2_question_index_count_mapping[blip2_question_index] += 1\n",
    "\n",
    "                            # Verb, Noun, Tool match\n",
    "                            if blip2_verb == current_ground_truth_label_verb and blip2_noun == current_ground_truth_label_noun and blip2_tool == current_ground_truth_label_tool:\n",
    "                                blip2_question_index_verb_noun_tool_match_count_mapping[blip2_question_index] += 1\n",
    "\n",
    "                            # Verb, Noun match\n",
    "                            if blip2_verb == current_ground_truth_label_verb and blip2_noun == current_ground_truth_label_noun:\n",
    "                                blip2_question_index_verb_noun_match_count_mapping[blip2_question_index] += 1\n",
    "\n",
    "                            # Verb, Tool match\n",
    "                            if blip2_verb == current_ground_truth_label_verb and blip2_tool == current_ground_truth_label_tool:\n",
    "                                blip2_question_index_verb_tool_match_count_mapping[blip2_question_index] += 1\n",
    "\n",
    "                            # Verb match\n",
    "                            if blip2_verb == current_ground_truth_label_verb:\n",
    "                                blip2_question_index_verb_match_count_mapping[blip2_question_index] += 1\n",
    "\n",
    "                            # Noun match\n",
    "                            if blip2_noun == current_ground_truth_label_noun:\n",
    "                                blip2_question_index_noun_match_count_mapping[blip2_question_index] += 1\n",
    "\n",
    "for mapping in [blip2_question_index_verb_noun_tool_match_count_mapping,\n",
    "                blip2_question_index_verb_noun_match_count_mapping,\n",
    "                blip2_question_index_verb_tool_match_count_mapping,\n",
    "                blip2_question_index_verb_match_count_mapping,\n",
    "                blip2_question_index_noun_match_count_mapping,\n",
    "                blip2_question_index_background_match_count_mapping]:\n",
    "    for blip2_question_index in mapping.keys():\n",
    "        mapping[blip2_question_index] = mapping[blip2_question_index] / float(blip2_question_index_count_mapping[blip2_question_index])\n"
   ]
  },
  {
   "cell_type": "code",
   "execution_count": 19,
   "id": "4740b889-8021-4033-bc79-29ad95eed5a5",
   "metadata": {},
   "outputs": [
    {
     "data": {
      "text/plain": [
       "(0.001673558175534314,\n",
       " 0.0024362035019285405,\n",
       " 0.008458050456956369,\n",
       " 0.012660901898439667,\n",
       " 0.036867499051467925,\n",
       " 0.16677267479626207)"
      ]
     },
     "execution_count": 19,
     "metadata": {},
     "output_type": "execute_result"
    }
   ],
   "source": [
    "blip2_question_index_verb_noun_tool_match_count_mapping[0], blip2_question_index_verb_noun_match_count_mapping[0], blip2_question_index_verb_tool_match_count_mapping[0], blip2_question_index_verb_match_count_mapping[0], blip2_question_index_noun_match_count_mapping[0], blip2_question_index_background_match_count_mapping[0]\n",
    "\n"
   ]
  },
  {
   "cell_type": "code",
   "execution_count": 20,
   "id": "e85974e5-544b-4f8a-9a3b-492d409b01fb",
   "metadata": {},
   "outputs": [
    {
     "data": {
      "text/plain": [
       "(0.0025997659461370884,\n",
       " 0.004234213946921597,\n",
       " 0.028600258537299736,\n",
       " 0.03528592124451193,\n",
       " 0.0595242355176737,\n",
       " 0.12786248393883298)"
      ]
     },
     "execution_count": 20,
     "metadata": {},
     "output_type": "execute_result"
    }
   ],
   "source": [
    "blip2_question_index_verb_noun_tool_match_count_mapping[1], blip2_question_index_verb_noun_match_count_mapping[1], blip2_question_index_verb_tool_match_count_mapping[1], blip2_question_index_verb_match_count_mapping[1], blip2_question_index_noun_match_count_mapping[1], blip2_question_index_background_match_count_mapping[1]\n",
    "\n"
   ]
  },
  {
   "cell_type": "code",
   "execution_count": 21,
   "id": "dd145048-049c-4591-91f6-e41285eec128",
   "metadata": {},
   "outputs": [
    {
     "data": {
      "text/plain": [
       "(0.0024523339497153425,\n",
       " 0.0045796340834405435,\n",
       " 0.015427533505265623,\n",
       " 0.0234195709374107,\n",
       " 0.05627053734020419,\n",
       " 0.14063185921021393)"
      ]
     },
     "execution_count": 21,
     "metadata": {},
     "output_type": "execute_result"
    }
   ],
   "source": [
    "blip2_question_index_verb_noun_tool_match_count_mapping[2], blip2_question_index_verb_noun_match_count_mapping[2], blip2_question_index_verb_tool_match_count_mapping[2], blip2_question_index_verb_match_count_mapping[2], blip2_question_index_noun_match_count_mapping[2], blip2_question_index_background_match_count_mapping[2]\n",
    "\n"
   ]
  },
  {
   "cell_type": "code",
   "execution_count": null,
   "id": "a6132674-22e9-457c-a2e8-75d5ec0c3d1a",
   "metadata": {},
   "outputs": [],
   "source": []
  }
 ],
 "metadata": {
  "kernelspec": {
   "display_name": "mq_analysis",
   "language": "python",
   "name": "mq_analysis"
  },
  "language_info": {
   "codemirror_mode": {
    "name": "ipython",
    "version": 3
   },
   "file_extension": ".py",
   "mimetype": "text/x-python",
   "name": "python",
   "nbconvert_exporter": "python",
   "pygments_lexer": "ipython3",
   "version": "3.9.9"
  }
 },
 "nbformat": 4,
 "nbformat_minor": 5
}
