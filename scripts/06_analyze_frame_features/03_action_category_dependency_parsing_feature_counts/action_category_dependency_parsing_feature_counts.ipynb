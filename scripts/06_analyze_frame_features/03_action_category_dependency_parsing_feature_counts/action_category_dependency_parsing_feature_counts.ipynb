{
 "cells": [
  {
   "cell_type": "code",
   "execution_count": null,
   "id": "29f0cd77-7e68-4b58-9432-68a4671588dc",
   "metadata": {},
   "outputs": [],
   "source": [
    "import os\n",
    "import pickle\n",
    "import json\n",
    "from tqdm import tqdm\n"
   ]
  },
  {
   "cell_type": "code",
   "execution_count": 2,
   "id": "6c8a85b2-a4ec-4020-98ce-46749bc31442",
   "metadata": {},
   "outputs": [],
   "source": [
    "from collections import defaultdict\n"
   ]
  },
  {
   "cell_type": "code",
   "execution_count": 3,
   "id": "2fa292ef-dc7d-422c-9e34-729c24dc8f6a",
   "metadata": {},
   "outputs": [],
   "source": [
    "os.environ[\"CODE\"] = \"/home/aarslan/mq\"\n",
    "os.environ[\"SCRATCH\"] = \"/srv/beegfs02/scratch/aarslan_data/data\"\n"
   ]
  },
  {
   "cell_type": "code",
   "execution_count": 4,
   "id": "4235f6a9-d344-4987-8010-1f1492cfb23d",
   "metadata": {},
   "outputs": [],
   "source": [
    "with open(os.path.join(os.environ[\"SCRATCH\"], \"ego4d_data/v2/analysis_data/dependency_parsing_results/dependency_parsing_results.pickle\"), \"rb\") as reader:\n",
    "    dependency_parsing_results = pickle.load(reader)\n"
   ]
  },
  {
   "cell_type": "code",
   "execution_count": 5,
   "id": "6fa9330e-11c8-48a6-b97f-1dc4f1409737",
   "metadata": {},
   "outputs": [],
   "source": [
    "with open(os.path.join(os.environ[\"SCRATCH\"], \"ego4d_data/v2/analysis_data/ground_truth_labels/ground_truth_labels.pickle\"), \"rb\") as reader:\n",
    "    ground_truth_labels = pickle.load(reader)\n"
   ]
  },
  {
   "cell_type": "code",
   "execution_count": 6,
   "id": "502f7a8b-3581-426e-8d1c-44541be6e3e0",
   "metadata": {},
   "outputs": [],
   "source": [
    "with open(os.path.join(os.environ[\"CODE\"], \"scripts/06_analyze_frame_features/02_map_label_dependency_parsing_features_and_blip2_answer_dependency_parsing_features\", \"label_verb_noun_tool_mapping.json\"), \"r\") as reader:\n",
    "    label_verb_noun_tools_mapping = json.load(reader)\n"
   ]
  },
  {
   "cell_type": "code",
   "execution_count": 7,
   "id": "2ee6a5b1-8536-47ee-9f98-5b68fd5d7b35",
   "metadata": {},
   "outputs": [],
   "source": [
    "label_verb_noun_tools_mapping_keys = sorted(list(label_verb_noun_tools_mapping.keys())) + [\"background\"]\n",
    "\n",
    "label_index_label_mapping = dict()\n",
    "for i in range(len(label_verb_noun_tools_mapping_keys)):\n",
    "    label_index_label_mapping[i] = label_verb_noun_tools_mapping_keys[i]\n"
   ]
  },
  {
   "cell_type": "code",
   "execution_count": 14,
   "id": "eb3f4e40-7a4c-40a9-9c53-43d7314a2c85",
   "metadata": {},
   "outputs": [],
   "source": [
    "def get_per_frame_match_counts(clip_id, frame_id, question_index):\n",
    "    current_label_indices = ground_truth_labels[clip_id][frame_id]\n",
    "    current_labels = [label_index_label_mapping[label_index] for label_index in current_label_indices]\n",
    "    current_blip2_verb_noun_tools = dependency_parsing_results[clip_id][int(frame_id // 6 * 6)][question_index][1]\n",
    "    results = {\n",
    "        \"background_match_count\": 0,\n",
    "        \"background_count\": 0,\n",
    "        \"verb_noun_tool_match_count\": 0,\n",
    "        \"verb_noun_match_count\": 0,\n",
    "        \"verb_tool_match_count\": 0,\n",
    "        \"verb_match_count\": 0,\n",
    "        \"noun_match_count\": 0,\n",
    "        \"nonbackground_count\": 0\n",
    "    }\n",
    "    if current_labels[0] == \"background\":\n",
    "        results[\"background_count\"] = 1\n",
    "        if len(current_blip2_verb_noun_tools) == 0:\n",
    "            results[\"background_match_count\"] = 1\n",
    "    else:\n",
    "        results[\"nonbackground_count\"] = len(current_labels)\n",
    "\n",
    "        for current_label in current_labels:\n",
    "            current_label_verb_noun_tool_list = label_verb_noun_tools_mapping[current_label]\n",
    "            current_verb_noun_tool_match = 0\n",
    "            current_verb_noun_match = 0\n",
    "            current_verb_tool_match = 0\n",
    "            current_verb_match = 0\n",
    "            current_noun_match = 0\n",
    "            \n",
    "            for current_label_verb_noun_tool in current_label_verb_noun_tool_list:\n",
    "                current_label_verb = current_label_verb_noun_tool[0]\n",
    "                current_label_noun = current_label_verb_noun_tool[1]\n",
    "                current_label_tool = current_label_verb_noun_tool[2]\n",
    "            \n",
    "                for current_blip2_verb_noun_tool in current_blip2_verb_noun_tools:\n",
    "                    current_blip2_verb = current_blip2_verb_noun_tool[0]\n",
    "                    current_blip2_noun = current_blip2_verb_noun_tool[1]\n",
    "                    current_blip2_tool = current_blip2_verb_noun_tool[2]\n",
    "                    if current_blip2_verb == current_label_verb and current_blip2_noun == current_label_noun and current_blip2_tool == current_label_tool:\n",
    "                        current_verb_noun_tool_match = 1\n",
    "                    if current_blip2_verb == current_label_verb and current_blip2_noun == current_label_noun:\n",
    "                        current_verb_noun_match = 1\n",
    "                    if current_blip2_verb == current_label_verb and current_blip2_tool == current_label_tool:\n",
    "                        current_verb_tool_match = 1\n",
    "                    if current_blip2_verb == current_label_verb:\n",
    "                        current_verb_match = 1\n",
    "                    if current_blip2_noun == current_label_noun:\n",
    "                        current_noun_match = 1\n",
    "\n",
    "            results[\"verb_noun_tool_match_count\"] += current_verb_noun_tool_match\n",
    "            results[\"verb_noun_match_count\"] += current_verb_noun_match\n",
    "            results[\"verb_tool_match_count\"] += current_verb_tool_match\n",
    "            results[\"verb_match_count\"] += current_verb_match\n",
    "            results[\"noun_match_count\"] += current_noun_match\n",
    "\n",
    "    return results\n",
    "\n"
   ]
  },
  {
   "cell_type": "code",
   "execution_count": 16,
   "id": "2f00ecff-d212-4694-b7ab-bcb04ea0da7b",
   "metadata": {},
   "outputs": [
    {
     "name": "stderr",
     "output_type": "stream",
     "text": [
      "100%|██████████████████████████████████████████████████████████████████████████████████████████████████████████████████████████████████████████████████████| 2495/2495 [01:53<00:00, 21.90it/s]\n",
      "100%|██████████████████████████████████████████████████████████████████████████████████████████████████████████████████████████████████████████████████████| 2495/2495 [01:42<00:00, 24.34it/s]\n",
      "100%|██████████████████████████████████████████████████████████████████████████████████████████████████████████████████████████████████████████████████████| 2495/2495 [01:51<00:00, 22.37it/s]\n"
     ]
    }
   ],
   "source": [
    "question_index_ratios_mapping = dict()\n",
    "for question_index in [0, 1, 2]:\n",
    "    question_index_ratios_mapping[question_index] = dict()\n",
    "    final_match_counts = {\n",
    "        \"background_match_count\": 0,\n",
    "        \"background_count\": 0,\n",
    "        \"verb_noun_tool_match_count\": 0,\n",
    "        \"verb_noun_match_count\": 0,\n",
    "        \"verb_tool_match_count\": 0,\n",
    "        \"verb_match_count\": 0,\n",
    "        \"noun_match_count\": 0,\n",
    "        \"nonbackground_count\": 0\n",
    "    }\n",
    "    for clip_id in tqdm(ground_truth_labels.keys()):\n",
    "        for frame_id in ground_truth_labels[clip_id].keys():\n",
    "            current_match_counts = get_per_frame_match_counts(clip_id=clip_id, frame_id=frame_id, question_index=question_index)\n",
    "            for key, value in current_match_counts.items():\n",
    "                final_match_counts[key] += value\n",
    "\n",
    "    question_index_ratios_mapping[question_index][\"background_match_ratio\"] = final_match_counts[\"background_match_count\"] / float(final_match_counts[\"background_count\"])\n",
    "    question_index_ratios_mapping[question_index][\"verb_noun_tool_match_ratio\"] = final_match_counts[\"verb_noun_tool_match_count\"] / float(final_match_counts[\"nonbackground_count\"])\n",
    "    question_index_ratios_mapping[question_index][\"verb_noun_match_ratio\"] = final_match_counts[\"verb_noun_match_count\"] / float(final_match_counts[\"nonbackground_count\"])\n",
    "    question_index_ratios_mapping[question_index][\"verb_tool_match_ratio\"] = final_match_counts[\"verb_tool_match_count\"] / float(final_match_counts[\"nonbackground_count\"])\n",
    "    question_index_ratios_mapping[question_index][\"verb_match_ratio\"] = final_match_counts[\"verb_match_count\"] / float(final_match_counts[\"nonbackground_count\"])\n",
    "    question_index_ratios_mapping[question_index][\"noun_match_ratio\"] = final_match_counts[\"noun_match_count\"] / float(final_match_counts[\"nonbackground_count\"])\n",
    "    \n"
   ]
  },
  {
   "cell_type": "markdown",
   "id": "fd6b2dce-11df-4064-a06d-633e4c57cead",
   "metadata": {},
   "source": [
    "# Statistics for \"What does the image describe?\""
   ]
  },
  {
   "cell_type": "code",
   "execution_count": 17,
   "id": "4740b889-8021-4033-bc79-29ad95eed5a5",
   "metadata": {},
   "outputs": [
    {
     "data": {
      "text/plain": [
       "{'background_match_ratio': 0.008209721572784125,\n",
       " 'verb_noun_tool_match_ratio': 0.02541627356823526,\n",
       " 'verb_noun_match_ratio': 0.034570419987181536,\n",
       " 'verb_tool_match_ratio': 0.06758627829675036,\n",
       " 'verb_match_ratio': 0.10084356989743123,\n",
       " 'noun_match_ratio': 0.13998811627259145}"
      ]
     },
     "execution_count": 17,
     "metadata": {},
     "output_type": "execute_result"
    }
   ],
   "source": [
<<<<<<< HEAD
    "question_index_ratios_mapping[0]"
=======
    "blip2_question_index_verb_noun_tool_match_count_mapping[0], blip2_question_index_verb_noun_match_count_mapping[0], blip2_question_index_verb_tool_match_count_mapping[0], blip2_question_index_verb_match_count_mapping[0], blip2_question_index_noun_match_count_mapping[0], blip2_question_index_background_match_count_mapping[0]\n"
>>>>>>> 0bfc42445690187c0a3c0650ea45e840f8e6a474
   ]
  },
  {
   "cell_type": "markdown",
   "id": "aa6a8b3d-81e8-46c4-8513-0551ba24d0d1",
   "metadata": {},
   "source": [
    "# Statistics for \"What is the person in this picture doing?\""
   ]
  },
  {
   "cell_type": "code",
   "execution_count": 19,
   "id": "e85974e5-544b-4f8a-9a3b-492d409b01fb",
   "metadata": {},
   "outputs": [
    {
     "data": {
      "text/plain": [
       "{'background_match_ratio': 0.0007187132329506736,\n",
       " 'verb_noun_tool_match_ratio': 0.026378173804026316,\n",
       " 'verb_noun_match_ratio': 0.03892561608455127,\n",
       " 'verb_tool_match_ratio': 0.16319105900562866,\n",
       " 'verb_match_ratio': 0.20076216755989704,\n",
       " 'noun_match_ratio': 0.11573235458744478}"
      ]
     },
     "execution_count": 19,
     "metadata": {},
     "output_type": "execute_result"
    }
   ],
   "source": [
    "question_index_ratios_mapping[1]"
   ]
  },
  {
   "cell_type": "markdown",
   "id": "0b6428f4-def2-46d4-b021-7e8d6fbdadb5",
   "metadata": {},
   "source": [
    "# Statistics for \"What is happening in this picture?\""
   ]
  },
  {
   "cell_type": "code",
   "execution_count": 20,
   "id": "dd145048-049c-4591-91f6-e41285eec128",
   "metadata": {},
   "outputs": [
    {
     "data": {
      "text/plain": [
       "{'background_match_ratio': 0.008207656304873348,\n",
       " 'verb_noun_tool_match_ratio': 0.034494668128345084,\n",
       " 'verb_noun_match_ratio': 0.05857382659525769,\n",
       " 'verb_tool_match_ratio': 0.1190730610192763,\n",
       " 'verb_match_ratio': 0.1828044022298413,\n",
       " 'noun_match_ratio': 0.15462541138555383}"
      ]
     },
     "execution_count": 20,
     "metadata": {},
     "output_type": "execute_result"
    }
   ],
   "source": [
    "question_index_ratios_mapping[2]"
   ]
  },
  {
   "cell_type": "code",
   "execution_count": null,
   "id": "a6132674-22e9-457c-a2e8-75d5ec0c3d1a",
   "metadata": {},
   "outputs": [],
   "source": []
  }
 ],
 "metadata": {
  "kernelspec": {
   "display_name": "mq",
   "language": "python",
   "name": "mq"
  },
  "language_info": {
   "codemirror_mode": {
    "name": "ipython",
    "version": 3
   },
   "file_extension": ".py",
   "mimetype": "text/x-python",
   "name": "python",
   "nbconvert_exporter": "python",
   "pygments_lexer": "ipython3",
   "version": "3.9.9"
  }
 },
 "nbformat": 4,
 "nbformat_minor": 5
}
