{
 "cells": [
  {
   "cell_type": "code",
   "execution_count": 1,
   "metadata": {},
   "outputs": [
    {
     "name": "stderr",
     "output_type": "stream",
     "text": [
      "/data/aarslan/mambaforge/envs/mq_analysis/lib/python3.9/site-packages/tqdm/auto.py:21: TqdmWarning: IProgress not found. Please update jupyter and ipywidgets. See https://ipywidgets.readthedocs.io/en/stable/user_install.html\n",
      "  from .autonotebook import tqdm as notebook_tqdm\n"
     ]
    }
   ],
   "source": [
    "import os\n",
    "import json\n",
    "import pickle\n",
    "import numpy as np\n",
    "from tqdm import tqdm\n",
    "from pqdm.processes import pqdm\n",
    "from typing import Dict, List, Tuple\n",
    "# from sentence_transformers import SentenceTransformer\n",
    "\n",
    "\n",
    "with open(os.path.join(os.environ[\"CODE\"], \"scripts/06_analyze_frame_features/label_verb_noun_tool_mapping.json\"), \"r\") as reader:\n",
    "    label_verb_noun_tools_mapping = json.load(reader)\n",
    "\n",
    "with open(os.path.join(os.environ[\"SCRATCH\"], \"ego4d_data/v2/analysis_data\", \"clip_id_frame_id_blip2_verb_noun_tool_pair_mapping.pickle\"), \"rb\") as reader:\n",
    "    clip_id_frame_id_blip2_verb_noun_tool_pair_mapping = pickle.load(reader)\n",
    "\n",
    "with open(os.path.join(os.environ[\"SCRATCH\"], \"ego4d_data/v2/analysis_data\", \"analysis_data.pickle\"), \"rb\") as reader:\n",
    "    clip_id_frame_id_ground_truth_labels_mapping = pickle.load(reader)[\"clip_id_frame_id_labels_mapping\"]\n",
    "\n",
    "# sbert = SentenceTransformer('sentence-transformers/paraphrase-MiniLM-L6-v2')\n"
   ]
  },
  {
   "cell_type": "code",
   "execution_count": 4,
   "metadata": {},
   "outputs": [],
   "source": [
    "distinct_ground_truth_labels = [\"background\"] + sorted(list(label_verb_noun_tools_mapping.keys()))\n"
   ]
  },
  {
   "cell_type": "code",
   "execution_count": 6,
   "metadata": {},
   "outputs": [],
   "source": [
    "clip_id_frame_id_ground_truth_label_indices_mapping = dict()\n",
    "for clip_id, frame_id_ground_truth_labels_mapping in clip_id_frame_id_ground_truth_labels_mapping.items():\n",
    "    if list(clip_id_frame_id_ground_truth_labels_mapping[clip_id][0])[0] == \"no_annotation\":\n",
    "        continue\n",
    "    clip_id_frame_id_ground_truth_label_indices_mapping[clip_id] = dict()\n",
    "    for frame_id, ground_truth_labels in frame_id_ground_truth_labels_mapping.items():\n",
    "        clip_id_frame_id_ground_truth_label_indices_mapping[clip_id][frame_id] = []\n",
    "        for ground_truth_label in ground_truth_labels:\n",
    "            clip_id_frame_id_ground_truth_label_indices_mapping[clip_id][frame_id].append(distinct_ground_truth_labels.index(ground_truth_label))\n",
    "del clip_id_frame_id_ground_truth_labels_mapping\n"
   ]
  },
  {
   "cell_type": "code",
   "execution_count": 7,
   "metadata": {},
   "outputs": [],
   "source": [
    "def calculate_SBERT_cosine_similarities(blip2_SBERT_embeddings: List[np.array], label_SBERT_embeddings: List[np.array]):\n",
    "    cosine_similarities = []\n",
    "    for blip2_SBERT_embedding in blip2_SBERT_embeddings:\n",
    "        for label_SBERT_embedding in label_SBERT_embeddings:\n",
    "            cosine_similarity = np.dot(blip2_SBERT_embedding, label_SBERT_embedding)/(np.linalg.norm(blip2_SBERT_embedding) * np.linalg.norm(label_SBERT_embedding))\n",
    "            cosine_similarities.append(cosine_similarity)\n",
    "    return cosine_similarities\n",
    "\n",
    "\n",
    "def nontemporal_dictionary_matching_for_given_clip(clip_id: str, frame_id_blip2_question_answer_verb_noun_tool_pairs_mapping: Dict[str, List[Tuple[str, str, str]]], label_verb_noun_tools_mapping: Dict[str, List[Tuple[str, str, str]]]):\n",
    "    frame_id_predicted_label_indices_and_scores = dict()\n",
    "    for frame_id, blip2_question_answer_verb_noun_tool_pairs_mapping in frame_id_blip2_question_answer_verb_noun_tool_pairs_mapping.items():\n",
    "        frame_id_predicted_label_indices_and_scores[frame_id] = dict()\n",
    "        for label, label_verb_noun_tools in label_verb_noun_tools_mapping.items():\n",
    "            label_index = distinct_ground_truth_labels.index(label)\n",
    "            if label not in frame_id_predicted_label_indices_and_scores[frame_id].keys():\n",
    "                frame_id_predicted_label_indices_and_scores[frame_id][label_index] = []\n",
    "            for label_verb_noun_tool in label_verb_noun_tools:\n",
    "                label_verb = label_verb_noun_tool[0].replace(\" \", \"\")\n",
    "                label_noun = label_verb_noun_tool[1].replace(\" \", \"\")\n",
    "                label_tool = label_verb_noun_tool[2].replace(\" \", \"\")\n",
    "                for blip2_question, blip2_answer_verb_noun_tool_pairs in blip2_question_answer_verb_noun_tool_pairs_mapping.items():\n",
    "                    blip2_answer = blip2_answer_verb_noun_tool_pairs[0]\n",
    "                    blip2_verb_noun_tool_pairs = blip2_answer_verb_noun_tool_pairs[1]\n",
    "                    for blip2_verb_noun_tool_pair in blip2_verb_noun_tool_pairs:\n",
    "                        blip2_verb = blip2_verb_noun_tool_pair[0].replace(\" \", \"\")\n",
    "                        blip2_noun = blip2_verb_noun_tool_pair[1].replace(\" \", \"\")\n",
    "                        blip2_tool = blip2_verb_noun_tool_pair[2].replace(\" \", \"\")\n",
    "                        if label_verb == blip2_verb and label_noun == blip2_noun and label_tool == blip2_tool:\n",
    "                            frame_id_predicted_label_indices_and_scores[frame_id][label_index].append(1.00)\n",
    "                        elif label_verb == blip2_verb and label_noun == blip2_noun:\n",
    "                            frame_id_predicted_label_indices_and_scores[frame_id][label_index].append(0.75)\n",
    "                        elif label_verb == blip2_verb and label_tool == blip2_tool:\n",
    "                            frame_id_predicted_label_indices_and_scores[frame_id][label_index].append(0.50)\n",
    "                        elif label_verb == blip2_verb:\n",
    "                            frame_id_predicted_label_indices_and_scores[frame_id][label_index].append(0.25)\n",
    "    return clip_id, frame_id_predicted_label_indices_and_scores\n",
    "\n",
    "\n",
    "# def nontemporal_SBERT_embedding_for_given_clip(clip_id: str, frame_id_blip2_question_answer_verb_noun_tool_pairs_mapping: Dict[str, List[Tuple[str, str, str]]], label_verb_noun_tools_mapping: Dict[str, List[Tuple[str, str, str]]]):\n",
    "#     label_verb_noun_tool_SBERT_embeddings_mapping = dict()\n",
    "#     label_verb_noun_SBERT_embeddings_mapping = dict()\n",
    "#     label_verb_tool_SBERT_embeddings_mapping = dict()\n",
    "#     label_verb_SBERT_embeddings_mapping = dict()\n",
    "\n",
    "#     for label, label_verb_noun_tools in label_verb_noun_tools_mapping.items():\n",
    "#         if label not in label_verb_noun_tool_SBERT_embeddings_mapping.keys():\n",
    "#             label_verb_noun_tool_SBERT_embeddings_mapping[label] = []\n",
    "#         if label not in label_verb_noun_SBERT_embeddings_mapping.keys():\n",
    "#             label_verb_noun_SBERT_embeddings_mapping[label] = []\n",
    "#         if label not in label_verb_tool_SBERT_embeddings_mapping.keys():\n",
    "#             label_verb_tool_SBERT_embeddings_mapping[label] = []\n",
    "#         if label not in label_verb_SBERT_embeddings_mapping.keys():\n",
    "#             label_verb_SBERT_embeddings_mapping[label] = []\n",
    "\n",
    "#         for label_verb_noun_tool in label_verb_noun_tools:\n",
    "#             label_verb = label_verb_noun_tool[0]\n",
    "#             label_noun = label_verb_noun_tool[1]\n",
    "#             label_tool = label_verb_noun_tool[2]\n",
    "#             if label_noun == \"NaN\":\n",
    "#                 label_noun = \"something\"\n",
    "#             if label_tool == \"NaN\":\n",
    "#                 label_tool = \"a tool\"\n",
    "#             label_verb_noun_tool_SBERT_embeddings_mapping[label].append(sbert.encode([f\"{label_verb} {label_noun} using {label_tool}\"])[0])\n",
    "#             label_verb_noun_SBERT_embeddings_mapping[label].append(sbert.encode([f\"{label_verb} {label_noun}\"])[0])\n",
    "#             label_verb_tool_SBERT_embeddings_mapping[label].append(sbert.encode([f\"{label_verb} using {label_tool}\"])[0])\n",
    "#             label_verb_SBERT_embeddings_mapping[label].append(sbert.encode([f\"{label_verb}\"])[0])\n",
    "\n",
    "#     frame_id_blip2_answer_SBERT_embeddings_mapping = dict()\n",
    "#     frame_id_blip2_verb_noun_tool_SBERT_embeddings_mapping = dict()\n",
    "#     frame_id_blip2_verb_noun_SBERT_embeddings_mapping = dict()\n",
    "#     frame_id_blip2_verb_tool_SBERT_embeddings_mapping = dict()\n",
    "#     frame_id_blip2_verb_SBERT_embeddings_mapping = dict()\n",
    "\n",
    "#     for frame_id, blip2_question_answer_verb_noun_tool_pairs_mapping in frame_id_blip2_question_answer_verb_noun_tool_pairs_mapping.items():\n",
    "#         frame_id_blip2_answer_SBERT_embeddings_mapping[frame_id] = []\n",
    "#         frame_id_blip2_verb_noun_tool_SBERT_embeddings_mapping[frame_id] = []\n",
    "#         frame_id_blip2_verb_noun_SBERT_embeddings_mapping[frame_id] = []\n",
    "#         frame_id_blip2_verb_tool_SBERT_embeddings_mapping[frame_id] = []\n",
    "#         frame_id_blip2_verb_SBERT_embeddings_mapping[frame_id] = []\n",
    "#         for blip2_question, blip2_answer_verb_noun_tool_pairs in blip2_question_answer_verb_noun_tool_pairs_mapping.items():\n",
    "#             blip2_answer = blip2_answer_verb_noun_tool_pairs[0]\n",
    "#             frame_id_blip2_answer_SBERT_embeddings_mapping[frame_id].append(sbert.encode([f\"{blip2_answer}\"])[0])\n",
    "#             for blip2_answer_verb_noun_tool_pair in blip2_answer_verb_noun_tool_pairs[1]:\n",
    "#                 blip2_verb = blip2_answer_verb_noun_tool_pair[0]\n",
    "#                 blip2_noun = blip2_answer_verb_noun_tool_pair[1]\n",
    "#                 blip2_tool = blip2_answer_verb_noun_tool_pair[2]\n",
    "#                 if blip2_noun == \"NaN\":\n",
    "#                     blip2_noun = \"something\"\n",
    "#                 if blip2_tool == \"NaN\":\n",
    "#                     blip2_tool = \"a tool\"\n",
    "#                 frame_id_blip2_verb_noun_tool_SBERT_embeddings_mapping[frame_id].append(sbert.encode([f\"{label_verb} {label_noun} using {label_tool}\"])[0])\n",
    "#                 frame_id_blip2_verb_noun_SBERT_embeddings_mapping[frame_id].append(sbert.encode([f\"{label_verb} {label_noun}\"])[0])\n",
    "#                 frame_id_blip2_verb_tool_SBERT_embeddings_mapping[frame_id].append(sbert.encode([f\"{label_verb} using {label_tool}\"])[0])\n",
    "#                 frame_id_blip2_verb_SBERT_embeddings_mapping[frame_id].append(sbert.encode([f\"{label_verb}\"])[0])\n",
    "    \n",
    "#     frame_id_predicted_label_indices_and_scores = dict()\n",
    "#     for frame_id in frame_id_blip2_question_answer_verb_noun_tool_pairs_mapping.keys():\n",
    "#         frame_id_predicted_label_indices_and_scores[frame_id] = dict()\n",
    "\n",
    "#         blip2_answer_SBERT_embeddings = frame_id_blip2_answer_SBERT_embeddings_mapping[frame_id]\n",
    "#         blip2_verb_noun_tool_SBERT_embeddings = frame_id_blip2_verb_noun_tool_SBERT_embeddings_mapping[frame_id]\n",
    "#         blip2_verb_noun_SBERT_embeddings = frame_id_blip2_verb_noun_SBERT_embeddings_mapping[frame_id]\n",
    "#         blip2_verb_tool_SBERT_embeddings = frame_id_blip2_verb_tool_SBERT_embeddings_mapping[frame_id]\n",
    "#         blip2_verb_SBERT_embeddings = frame_id_blip2_verb_SBERT_embeddings_mapping[frame_id]\n",
    "\n",
    "#         for label in label_verb_noun_tools_mapping.keys():\n",
    "#             if label not in frame_id_predicted_label_indices_and_scores[frame_id].keys():\n",
    "#                 frame_id_predicted_label_indices_and_scores[frame_id][label] = []\n",
    "\n",
    "#             label_verb_noun_tool_SBERT_embeddings = label_verb_noun_tool_SBERT_embeddings_mapping[label]\n",
    "#             label_verb_noun_SBERT_embeddings = label_verb_noun_SBERT_embeddings_mapping[label]\n",
    "#             label_verb_tool_SBERT_embeddings = label_verb_tool_SBERT_embeddings_mapping[label]\n",
    "#             label_verb_SBERT_embeddings = label_verb_SBERT_embeddings_mapping[label]\n",
    "\n",
    "#             frame_id_predicted_label_indices_and_scores[frame_id][label].extend(calculate_SBERT_cosine_similarities(blip2_SBERT_embeddings=blip2_answer_SBERT_embeddings, label_SBERT_embeddings=label_verb_noun_tool_SBERT_embeddings))\n",
    "#             frame_id_predicted_label_indices_and_scores[frame_id][label].extend(calculate_SBERT_cosine_similarities(blip2_SBERT_embeddings=blip2_answer_SBERT_embeddings, label_SBERT_embeddings=label_verb_noun_SBERT_embeddings))\n",
    "#             frame_id_predicted_label_indices_and_scores[frame_id][label].extend(calculate_SBERT_cosine_similarities(blip2_SBERT_embeddings=blip2_answer_SBERT_embeddings, label_SBERT_embeddings=label_verb_tool_SBERT_embeddings))\n",
    "#             frame_id_predicted_label_indices_and_scores[frame_id][label].extend(calculate_SBERT_cosine_similarities(blip2_SBERT_embeddings=blip2_answer_SBERT_embeddings, label_SBERT_embeddings=label_verb_SBERT_embeddings))\n",
    "\n",
    "#             frame_id_predicted_label_indices_and_scores[frame_id][label].extend(calculate_SBERT_cosine_similarities(blip2_SBERT_embeddings=blip2_verb_noun_tool_SBERT_embeddings, label_SBERT_embeddings=label_verb_noun_tool_SBERT_embeddings))\n",
    "#             frame_id_predicted_label_indices_and_scores[frame_id][label].extend(calculate_SBERT_cosine_similarities(blip2_SBERT_embeddings=blip2_verb_noun_SBERT_embeddings, label_SBERT_embeddings=label_verb_noun_SBERT_embeddings))\n",
    "#             frame_id_predicted_label_indices_and_scores[frame_id][label].extend(calculate_SBERT_cosine_similarities(blip2_SBERT_embeddings=blip2_verb_tool_SBERT_embeddings, label_SBERT_embeddings=label_verb_tool_SBERT_embeddings))\n",
    "#             frame_id_predicted_label_indices_and_scores[frame_id][label].extend(calculate_SBERT_cosine_similarities(blip2_SBERT_embeddings=blip2_verb_SBERT_embeddings, label_SBERT_embeddings=label_verb_SBERT_embeddings))\n",
    "\n",
    "#     return clip_id, frame_id_predicted_label_indices_and_scores\n"
   ]
  },
  {
   "cell_type": "code",
   "execution_count": 8,
   "metadata": {},
   "outputs": [
    {
     "name": "stderr",
     "output_type": "stream",
     "text": [
      "QUEUEING TASKS | : 100%|██████████| 623/623 [00:00<00:00, 1704.22it/s]\n",
      "PROCESSING TASKS | : 100%|██████████| 623/623 [08:08<00:00,  1.28it/s]\n",
      "COLLECTING RESULTS | : 100%|██████████| 623/623 [00:00<00:00, 174692.57it/s]\n"
     ]
    }
   ],
   "source": [
    "nontemporal_dictionary_matching_clip_id_frame_id_predicted_label_indices_and_scores = dict(pqdm(\n",
    "    [{\"clip_id\": clip_id, \"frame_id_blip2_question_answer_verb_noun_tool_pairs_mapping\": frame_id_blip2_question_answer_verb_noun_tool_pairs_mapping, \"label_verb_noun_tools_mapping\": label_verb_noun_tools_mapping} for clip_id, frame_id_blip2_question_answer_verb_noun_tool_pairs_mapping in clip_id_frame_id_blip2_verb_noun_tool_pair_mapping.items()],\n",
    "    function=nontemporal_dictionary_matching_for_given_clip,\n",
    "    n_jobs=4,\n",
    "    exception_behaviour=\"immediate\",\n",
    "    argument_type=\"kwargs\",\n",
    "))\n"
   ]
  },
  {
   "cell_type": "code",
   "execution_count": 19,
   "metadata": {},
   "outputs": [],
   "source": [
    "def nontemporal_select_labels_with_individual_score_higher_than_threshold(nontemporal_clip_id_frame_id_predicted_label_indices_and_scores: Dict[str, Dict[str, List[float]]], threshold: float):\n",
    "    nontemporal_clip_id_frame_id_predicted_label_indices = dict()\n",
    "    for clip_id, frame_id_predicted_label_indices_and_scores in tqdm(nontemporal_clip_id_frame_id_predicted_label_indices_and_scores.items()):\n",
    "        nontemporal_clip_id_frame_id_predicted_label_indices[clip_id] = dict()\n",
    "        for frame_id, predicted_label_indices_and_scores in frame_id_predicted_label_indices_and_scores.items():\n",
    "            labels_with_individual_score_higher_than_a_threshold = []\n",
    "            for predicted_label_index, scores in predicted_label_indices_and_scores.items():\n",
    "                for score in scores:\n",
    "                    if score >= threshold:\n",
    "                        labels_with_individual_score_higher_than_a_threshold.append(predicted_label_index)\n",
    "                        break\n",
    "            nontemporal_clip_id_frame_id_predicted_label_indices[clip_id][frame_id] = labels_with_individual_score_higher_than_a_threshold\n",
    "    return nontemporal_clip_id_frame_id_predicted_label_indices\n",
    "\n",
    "\n",
    "def nontemporal_select_labels_with_total_score_higher_than_threshold(nontemporal_clip_id_frame_id_predicted_label_indices_and_scores: Dict[str, Dict[str, List[float]]], threshold: float):\n",
    "    nontemporal_clip_id_frame_id_predicted_label_index_mapping = dict()\n",
    "    for clip_id, frame_id_predicted_label_indices_and_scores in tqdm(nontemporal_clip_id_frame_id_predicted_label_indices_and_scores.items()):\n",
    "        nontemporal_clip_id_frame_id_predicted_label_index_mapping[clip_id] = dict()\n",
    "        for frame_id, predicted_label_indices_and_scores in frame_id_predicted_label_indices_and_scores.items():\n",
    "            labels_with_total_score_higher_than_a_threshold = []\n",
    "            for predicted_label_index, scores in predicted_label_indices_and_scores.items():\n",
    "                if sum(scores) >= threshold:\n",
    "                    labels_with_total_score_higher_than_a_threshold.append(predicted_label_index)\n",
    "            nontemporal_clip_id_frame_id_predicted_label_index_mapping[clip_id][frame_id] = labels_with_total_score_higher_than_a_threshold\n",
    "    return nontemporal_clip_id_frame_id_predicted_label_index_mapping\n"
   ]
  },
  {
   "cell_type": "code",
   "execution_count": 42,
   "metadata": {},
   "outputs": [],
   "source": [
    "from sklearn.metrics import f1_score\n",
    "\n",
    "def evaluate_predictions(clip_id_frame_id_predicted_label_indices_mapping: Dict[str, Dict[str, List[str]]], clip_id_frame_id_ground_truth_label_indices_mapping: Dict[str, Dict[str, List[str]]]):\n",
    "    sum_average_f1_scores = 0.0\n",
    "    count_average_f1_scores = 0.0\n",
    "    for clip_id, frame_id_ground_truth_label_indices_mapping in clip_id_frame_id_ground_truth_label_indices_mapping.items():\n",
    "        for frame_id, ground_truth_label_indices in frame_id_ground_truth_label_indices_mapping.items():\n",
    "            predicted_label_indices = clip_id_frame_id_predicted_label_indices_mapping[clip_id][int(frame_id // 6 * 6)]\n",
    "            if len(predicted_label_indices) == 0:\n",
    "                predicted_label_indices = [0]\n",
    "            current_f1_score = f1_score(y_true=[ground_truth_label_indices], y_pred=[predicted_label_indices], average=\"weighted\")\n",
    "            sum_average_f1_scores += current_f1_score\n",
    "            count_average_f1_scores += 1.0\n",
    "    average_weighted_f1_score = sum_average_f1_scores / float(count_average_f1_scores)\n",
    "    return average_weighted_f1_score\n"
   ]
  },
  {
   "cell_type": "code",
   "execution_count": 43,
   "metadata": {},
   "outputs": [],
   "source": [
    "for threshold in [0.25, 0.5, 0.75, 1.0]:\n",
    "    nontemporal_selected_labels_with_individual_score_higher_than_threshold = nontemporal_select_labels_with_individual_score_higher_than_threshold(nontemporal_clip_id_frame_id_predicted_label_indices_and_scores=nontemporal_dictionary_matching_clip_id_frame_id_predicted_label_indices_and_scores, threshold=threshold)\n",
    "    average_weighted_f1_score = evaluate_predictions(clip_id_frame_id_predicted_label_indices_mapping=nontemporal_selected_labels_with_individual_score_higher_than_threshold, clip_id_frame_id_ground_truth_label_indices_mapping=clip_id_frame_id_ground_truth_label_indices_mapping)\n",
    "    print(f\"Individual Score | Threshold: {np.round(threshold, 2)} | Average weighted F1 Score: {np.round(average_weighted_f1_score, 2)}\")\n"
   ]
  },
  {
   "cell_type": "code",
   "execution_count": null,
   "metadata": {},
   "outputs": [
    {
     "name": "stderr",
     "output_type": "stream",
     "text": [
      "100%|██████████| 623/623 [00:29<00:00, 21.41it/s]\n"
     ]
    },
    {
     "name": "stdout",
     "output_type": "stream",
     "text": [
      "Total Score      | Threshold: 0.25 | Average cosine similarity: 0.18\n"
     ]
    },
    {
     "name": "stderr",
     "output_type": "stream",
     "text": [
      "100%|██████████| 623/623 [00:51<00:00, 12.06it/s]\n"
     ]
    },
    {
     "name": "stdout",
     "output_type": "stream",
     "text": [
      "Total Score      | Threshold: 0.5 | Average cosine similarity: 0.18\n"
     ]
    },
    {
     "name": "stderr",
     "output_type": "stream",
     "text": [
      "100%|██████████| 623/623 [00:28<00:00, 21.63it/s]\n"
     ]
    },
    {
     "name": "stdout",
     "output_type": "stream",
     "text": [
      "Total Score      | Threshold: 0.75 | Average cosine similarity: 0.24\n"
     ]
    },
    {
     "name": "stderr",
     "output_type": "stream",
     "text": [
      "100%|██████████| 623/623 [00:28<00:00, 21.64it/s]\n"
     ]
    },
    {
     "name": "stdout",
     "output_type": "stream",
     "text": [
      "Total Score      | Threshold: 1.0 | Average cosine similarity: 0.25\n"
     ]
    },
    {
     "name": "stderr",
     "output_type": "stream",
     "text": [
      "100%|██████████| 623/623 [00:28<00:00, 21.70it/s]\n"
     ]
    },
    {
     "name": "stdout",
     "output_type": "stream",
     "text": [
      "Total Score      | Threshold: 1.5 | Average cosine similarity: 0.32\n"
     ]
    },
    {
     "name": "stderr",
     "output_type": "stream",
     "text": [
      "100%|██████████| 623/623 [00:28<00:00, 21.70it/s]\n"
     ]
    },
    {
     "name": "stdout",
     "output_type": "stream",
     "text": [
      "Total Score      | Threshold: 2.0 | Average cosine similarity: 0.36\n"
     ]
    },
    {
     "name": "stderr",
     "output_type": "stream",
     "text": [
      "100%|██████████| 623/623 [00:28<00:00, 21.78it/s]\n"
     ]
    },
    {
     "name": "stdout",
     "output_type": "stream",
     "text": [
      "Total Score      | Threshold: 2.5 | Average cosine similarity: 0.4\n"
     ]
    },
    {
     "name": "stderr",
     "output_type": "stream",
     "text": [
      "100%|██████████| 623/623 [00:28<00:00, 21.78it/s]\n"
     ]
    },
    {
     "name": "stdout",
     "output_type": "stream",
     "text": [
      "Total Score      | Threshold: 3.0 | Average cosine similarity: 0.41\n"
     ]
    },
    {
     "name": "stderr",
     "output_type": "stream",
     "text": [
      "100%|██████████| 623/623 [00:28<00:00, 21.81it/s]\n"
     ]
    },
    {
     "name": "stdout",
     "output_type": "stream",
     "text": [
      "Total Score      | Threshold: 3.5 | Average cosine similarity: 0.46\n"
     ]
    },
    {
     "name": "stderr",
     "output_type": "stream",
     "text": [
      "100%|██████████| 623/623 [00:28<00:00, 21.79it/s]\n"
     ]
    },
    {
     "name": "stdout",
     "output_type": "stream",
     "text": [
      "Total Score      | Threshold: 4.0 | Average cosine similarity: 0.46\n"
     ]
    },
    {
     "name": "stderr",
     "output_type": "stream",
     "text": [
      "100%|██████████| 623/623 [00:28<00:00, 21.81it/s]\n"
     ]
    },
    {
     "name": "stdout",
     "output_type": "stream",
     "text": [
      "Total Score      | Threshold: 4.5 | Average cosine similarity: 0.46\n"
     ]
    },
    {
     "name": "stderr",
     "output_type": "stream",
     "text": [
      "100%|██████████| 623/623 [00:28<00:00, 21.82it/s]\n"
     ]
    },
    {
     "ename": "KeyboardInterrupt",
     "evalue": "",
     "output_type": "error",
     "traceback": [
      "\u001b[0;31m---------------------------------------------------------------------------\u001b[0m",
      "\u001b[0;31mKeyboardInterrupt\u001b[0m                         Traceback (most recent call last)",
      "Cell \u001b[0;32mIn[16], line 3\u001b[0m\n\u001b[1;32m      1\u001b[0m \u001b[38;5;28;01mfor\u001b[39;00m threshold \u001b[38;5;129;01min\u001b[39;00m [\u001b[38;5;241m0.25\u001b[39m, \u001b[38;5;241m0.5\u001b[39m, \u001b[38;5;241m0.75\u001b[39m, \u001b[38;5;241m1.0\u001b[39m, \u001b[38;5;241m1.5\u001b[39m, \u001b[38;5;241m2.0\u001b[39m, \u001b[38;5;241m2.5\u001b[39m, \u001b[38;5;241m3.0\u001b[39m, \u001b[38;5;241m3.5\u001b[39m, \u001b[38;5;241m4.0\u001b[39m, \u001b[38;5;241m4.5\u001b[39m, \u001b[38;5;241m5.0\u001b[39m, \u001b[38;5;241m7.5\u001b[39m, \u001b[38;5;241m10.0\u001b[39m]:\n\u001b[1;32m      2\u001b[0m     nontemporal_selected_labels_with_total_score_higher_than_threshold \u001b[38;5;241m=\u001b[39m nontemporal_select_labels_with_total_score_higher_than_threshold(nontemporal_clip_id_frame_id_predicted_label_indices_and_scores\u001b[38;5;241m=\u001b[39mnontemporal_dictionary_matching_clip_id_frame_id_predicted_label_indices_and_scores, threshold\u001b[38;5;241m=\u001b[39mthreshold)\n\u001b[0;32m----> 3\u001b[0m     average_cosine_similarity \u001b[38;5;241m=\u001b[39m \u001b[43mevaluate_predictions\u001b[49m\u001b[43m(\u001b[49m\u001b[43mclip_id_frame_id_predicted_label_indices_mapping\u001b[49m\u001b[38;5;241;43m=\u001b[39;49m\u001b[43mnontemporal_selected_labels_with_total_score_higher_than_threshold\u001b[49m\u001b[43m,\u001b[49m\u001b[43m \u001b[49m\u001b[43mclip_id_frame_id_ground_truth_label_indices_mapping\u001b[49m\u001b[38;5;241;43m=\u001b[39;49m\u001b[43mclip_id_frame_id_ground_truth_label_indices_mapping\u001b[49m\u001b[43m)\u001b[49m\n\u001b[1;32m      4\u001b[0m     \u001b[38;5;28mprint\u001b[39m(\u001b[38;5;124mf\u001b[39m\u001b[38;5;124m\"\u001b[39m\u001b[38;5;124mTotal Score      | Threshold: \u001b[39m\u001b[38;5;132;01m{\u001b[39;00mnp\u001b[38;5;241m.\u001b[39mround(threshold,\u001b[38;5;250m \u001b[39m\u001b[38;5;241m2\u001b[39m)\u001b[38;5;132;01m}\u001b[39;00m\u001b[38;5;124m | Average cosine similarity: \u001b[39m\u001b[38;5;132;01m{\u001b[39;00mnp\u001b[38;5;241m.\u001b[39mround(average_cosine_similarity,\u001b[38;5;250m \u001b[39m\u001b[38;5;241m2\u001b[39m)\u001b[38;5;132;01m}\u001b[39;00m\u001b[38;5;124m\"\u001b[39m)\n",
      "Cell \u001b[0;32mIn[12], line 19\u001b[0m, in \u001b[0;36mevaluate_predictions\u001b[0;34m(clip_id_frame_id_predicted_label_indices_mapping, clip_id_frame_id_ground_truth_label_indices_mapping)\u001b[0m\n\u001b[1;32m     16\u001b[0m \u001b[38;5;28;01mfor\u001b[39;00m ground_truth_label_index \u001b[38;5;129;01min\u001b[39;00m ground_truth_label_indices:\n\u001b[1;32m     17\u001b[0m     ground_truth_labels_one_hot_vector[ground_truth_label_index] \u001b[38;5;241m=\u001b[39m \u001b[38;5;241m1\u001b[39m\n\u001b[0;32m---> 19\u001b[0m cosine_similarity \u001b[38;5;241m=\u001b[39m np\u001b[38;5;241m.\u001b[39mdot(predicted_labels_one_hot_vector, ground_truth_labels_one_hot_vector)\u001b[38;5;241m/\u001b[39m(np\u001b[38;5;241m.\u001b[39mlinalg\u001b[38;5;241m.\u001b[39mnorm(predicted_labels_one_hot_vector) \u001b[38;5;241m*\u001b[39m \u001b[43mnp\u001b[49m\u001b[38;5;241;43m.\u001b[39;49m\u001b[43mlinalg\u001b[49m\u001b[38;5;241;43m.\u001b[39;49m\u001b[43mnorm\u001b[49m\u001b[43m(\u001b[49m\u001b[43mground_truth_labels_one_hot_vector\u001b[49m\u001b[43m)\u001b[49m)\n\u001b[1;32m     20\u001b[0m sum_cosine_similarity \u001b[38;5;241m+\u001b[39m\u001b[38;5;241m=\u001b[39m cosine_similarity\n\u001b[1;32m     21\u001b[0m count_cosine_similarity \u001b[38;5;241m+\u001b[39m\u001b[38;5;241m=\u001b[39m \u001b[38;5;241m1\u001b[39m\n",
      "File \u001b[0;32m<__array_function__ internals>:200\u001b[0m, in \u001b[0;36mnorm\u001b[0;34m(*args, **kwargs)\u001b[0m\n",
      "File \u001b[0;32m/data/aarslan/mambaforge/envs/mq_analysis/lib/python3.9/site-packages/numpy/linalg/linalg.py:2511\u001b[0m, in \u001b[0;36mnorm\u001b[0;34m(x, ord, axis, keepdims)\u001b[0m\n\u001b[1;32m   2509\u001b[0m     sqnorm \u001b[39m=\u001b[39m x_real\u001b[39m.\u001b[39mdot(x_real) \u001b[39m+\u001b[39m x_imag\u001b[39m.\u001b[39mdot(x_imag)\n\u001b[1;32m   2510\u001b[0m \u001b[39melse\u001b[39;00m:\n\u001b[0;32m-> 2511\u001b[0m     sqnorm \u001b[39m=\u001b[39m x\u001b[39m.\u001b[39;49mdot(x)\n\u001b[1;32m   2512\u001b[0m ret \u001b[39m=\u001b[39m sqrt(sqnorm)\n\u001b[1;32m   2513\u001b[0m \u001b[39mif\u001b[39;00m keepdims:\n",
      "\u001b[0;31mKeyboardInterrupt\u001b[0m: "
     ]
    }
   ],
   "source": [
    "for threshold in [0.25, 0.5, 0.75, 1.0, 1.5, 2.0, 2.5, 3.0, 3.5, 4.0, 4.5, 5.0, 7.5, 10.0]:\n",
    "    nontemporal_selected_labels_with_total_score_higher_than_threshold = nontemporal_select_labels_with_total_score_higher_than_threshold(nontemporal_clip_id_frame_id_predicted_label_indices_and_scores=nontemporal_dictionary_matching_clip_id_frame_id_predicted_label_indices_and_scores, threshold=threshold)\n",
    "    average_weighted_f1_score = evaluate_predictions(clip_id_frame_id_predicted_label_indices_mapping=nontemporal_selected_labels_with_total_score_higher_than_threshold, clip_id_frame_id_ground_truth_label_indices_mapping=clip_id_frame_id_ground_truth_label_indices_mapping)\n",
    "    print(f\"Total Score      | Threshold: {np.round(threshold, 2)} | Average weighted F1 Score: {np.round(average_weighted_f1_score, 2)}\")\n"
   ]
  },
  {
   "cell_type": "code",
   "execution_count": 6,
   "metadata": {},
   "outputs": [
    {
     "ename": "IndexError",
     "evalue": "list index out of range",
     "output_type": "error",
     "traceback": [
      "\u001b[0;31m---------------------------------------------------------------------------\u001b[0m",
      "\u001b[0;31mIndexError\u001b[0m                                Traceback (most recent call last)",
      "Cell \u001b[0;32mIn[6], line 11\u001b[0m\n\u001b[1;32m      9\u001b[0m label_verb_noun_tool \u001b[38;5;241m=\u001b[39m label_verb_noun_tool_mapping[label]\n\u001b[1;32m     10\u001b[0m label_verb \u001b[38;5;241m=\u001b[39m label_verb_noun_tool[\u001b[38;5;241m0\u001b[39m]\n\u001b[0;32m---> 11\u001b[0m label_noun \u001b[38;5;241m=\u001b[39m \u001b[43mlabel_verb_noun_tool\u001b[49m\u001b[43m[\u001b[49m\u001b[38;5;241;43m1\u001b[39;49m\u001b[43m]\u001b[49m\n\u001b[1;32m     12\u001b[0m label_tool \u001b[38;5;241m=\u001b[39m label_verb_noun_tool[\u001b[38;5;241m2\u001b[39m]\n\u001b[1;32m     13\u001b[0m \u001b[38;5;28;01mfor\u001b[39;00m blip2_verb_noun_tool_pair \u001b[38;5;129;01min\u001b[39;00m blip2_verb_noun_tool_pairs:\n",
      "\u001b[0;31mIndexError\u001b[0m: list index out of range"
     ]
    }
   ],
   "source": [
    "clip_id_frame_id_blip2_verb_noun_tool_label_mapping = dict()\n",
    "for clip_id in clip_id_frame_id_labels_mapping.keys():\n",
    "    for frame_id in clip_id_frame_id_labels_mapping[clip_id].keys():\n",
    "        labels = clip_id_frame_id_labels_mapping[clip_id][frame_id]\n",
    "        blip2_verb_noun_tool_pairs = clip_id_frame_id_blip2_verb_noun_tool_pair_mapping[clip_id][(frame_id // 6) * 6]\n",
    "        for label in labels:\n",
    "            if label not in label_verb_noun_tool_mapping.keys():\n",
    "                continue\n",
    "            label_verb_noun_tools = label_verb_noun_tool_mapping[label]\n",
    "            for label_verb_noun_tool in label_verb_noun_tools:\n",
    "                label_verb = label_verb_noun_tool[0]\n",
    "                label_noun = label_verb_noun_tool[1]\n",
    "                label_tool = label_verb_noun_tool[2]\n",
    "                for blip2_verb_noun_tool_pair in blip2_verb_noun_tool_pairs:\n",
    "                    blip2_verb = blip2_verb_noun_tool_pair[0]\n",
    "                    blip2_noun = blip2_verb_noun_tool_pair[1]\n",
    "                    blip2_tool = blip2_verb_noun_tool_pair[2]\n",
    "                    clip_id_frame_id_blip2_verb_noun_tool_label_mapping[clip_id][frame_id] = (blip2_verb, blip2_noun, blip2_tool, label_verb, label_noun, label_tool)\n",
    "                    \n"
   ]
  },
  {
   "cell_type": "code",
   "execution_count": null,
   "metadata": {},
   "outputs": [],
   "source": [
    "for clip_id, frame_id_blip2_verb_noun_tool_pair in clip_id_frame_id_blip2_verb_noun_tool_pair_mapping.items():\n",
    "    for frame_id, blip2_verb_noun_tool_pair in frame_id_blip2_verb_noun_tool_pair.items():\n",
    "        \n",
    "\n"
   ]
  }
 ],
 "metadata": {
  "kernelspec": {
   "display_name": "Python 3.9.9 ('mq_analysis')",
   "language": "python",
   "name": "python3"
  },
  "language_info": {
   "codemirror_mode": {
    "name": "ipython",
    "version": 3
   },
   "file_extension": ".py",
   "mimetype": "text/x-python",
   "name": "python",
   "nbconvert_exporter": "python",
   "pygments_lexer": "ipython3",
   "version": "3.9.9"
  },
  "orig_nbformat": 4,
  "vscode": {
   "interpreter": {
    "hash": "7baf97c684abb9a3f3dba5fbfca0f2f069a7ab5cf394abaf3794cf37d30c0a2c"
   }
  }
 },
 "nbformat": 4,
 "nbformat_minor": 2
}
