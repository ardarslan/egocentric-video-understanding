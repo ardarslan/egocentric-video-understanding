{
 "cells": [
  {
   "cell_type": "code",
   "execution_count": null,
   "metadata": {},
   "outputs": [],
   "source": [
    "import os\n",
    "import json\n",
    "\n",
    "with open(os.path.join(os.environ[\"CODE\"], \"scripts/06_analyse_frame_features/label_verb_noun_obl_mapping.json\"), \"r\") as reader:\n",
    "    label_verb_noun_obl_mapping = json.load(reader)\n"
   ]
  }
 ],
 "metadata": {
  "kernelspec": {
   "display_name": "Python 3.9.9 ('mq_analysis')",
   "language": "python",
   "name": "python3"
  },
  "language_info": {
   "codemirror_mode": {
    "name": "ipython",
    "version": 3
   },
   "file_extension": ".py",
   "mimetype": "text/x-python",
   "name": "python",
   "nbconvert_exporter": "python",
   "pygments_lexer": "ipython3",
   "version": "3.9.9"
  },
  "orig_nbformat": 4,
  "vscode": {
   "interpreter": {
    "hash": "7baf97c684abb9a3f3dba5fbfca0f2f069a7ab5cf394abaf3794cf37d30c0a2c"
   }
  }
 },
 "nbformat": 4,
 "nbformat_minor": 2
}
