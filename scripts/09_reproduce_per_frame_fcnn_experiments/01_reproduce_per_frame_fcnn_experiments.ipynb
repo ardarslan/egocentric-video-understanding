{
 "cells": [
  {
   "cell_type": "code",
   "execution_count": null,
   "metadata": {},
   "outputs": [
    {
     "ename": "",
     "evalue": "",
     "output_type": "error",
     "traceback": [
      "\u001b[1;31mThe kernel failed to start due to the missing module 'pexpect'. Consider installing this module.\n",
      "Click <a href='https://aka.ms/kernelFailuresMissingModule'>here</a> for more info."
     ]
    }
   ],
   "source": [
    "import sys\n",
    "\n",
    "sys.path.append(\"../08_reproduce_mq_experiments/\")\n",
    "\n",
    "from libs.datasets.ego4d import Ego4dDataset\n",
    "from libs.core import load_config\n",
    "from libs.utils import fix_random_seed\n",
    "from libs.datasets import make_dataset, make_data_loader\n",
    "\n",
    "import argparse\n",
    "\n",
    "parser = argparse.ArgumentParser()\n",
    "parser.add_argument(\"--config\", type=str, default=\"/local/home/aarslan/mq/scripts/08_reproduce_mq_experiments/configs/ego4d_asl_features.yaml\")\n",
    "args = parser.parse_args()\n",
    "\n",
    "cfg = load_config(args.config)\n",
    "cfg[\"loader\"][\"num_workers\"] = 0\n",
    "\n",
    "rng_generator = fix_random_seed(cfg[\"init_rand_seed\"], include_cuda=True)\n",
    "\n",
    "train_dataset = make_dataset(\n",
    "    cfg[\"dataset_name\"], True, cfg[\"train_split\"], **cfg[\"dataset\"]\n",
    ")\n",
    "train_loader = make_data_loader(train_dataset, True, rng_generator, **cfg[\"loader\"])\n",
    "\n",
    "val_dataset = make_dataset(\n",
    "    cfg[\"dataset_name\"], False, cfg[\"val_split\"], **cfg[\"dataset\"]\n",
    ")\n",
    "# set bs = 1, and disable shuffle\n",
    "val_loader = make_data_loader(\n",
    "    val_dataset, False, None, 1, cfg[\"loader\"][\"num_workers\"]\n",
    ")\n",
    "\n",
    "\n",
    "\n"
   ]
  },
  {
   "cell_type": "code",
   "execution_count": null,
   "metadata": {},
   "outputs": [],
   "source": []
  }
 ],
 "metadata": {
  "kernelspec": {
   "display_name": "Python 3.8.18 ('mq_model')",
   "language": "python",
   "name": "python3"
  },
  "language_info": {
   "codemirror_mode": {
    "name": "ipython",
    "version": 3
   },
   "file_extension": ".py",
   "mimetype": "text/x-python",
   "name": "python",
   "nbconvert_exporter": "python",
   "pygments_lexer": "ipython3",
   "version": "3.8.18"
  },
  "orig_nbformat": 4,
  "vscode": {
   "interpreter": {
    "hash": "abb782c47c1003e7da29e52de55b2cef660d160a6e722b693079625d5e12925f"
   }
  }
 },
 "nbformat": 4,
 "nbformat_minor": 2
}
